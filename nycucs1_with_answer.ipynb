{
  "nbformat": 4,
  "nbformat_minor": 0,
  "metadata": {
    "colab": {
      "name": "nycucs1_with_answer.ipynb",
      "provenance": [],
      "include_colab_link": true
    },
    "kernelspec": {
      "name": "python3",
      "display_name": "Python 3"
    },
    "language_info": {
      "name": "python"
    }
  },
  "cells": [
    {
      "cell_type": "markdown",
      "metadata": {
        "id": "view-in-github",
        "colab_type": "text"
      },
      "source": [
        "<a href=\"https://colab.research.google.com/github/andy96002/DBMS21_hw0/blob/main/nycucs1_with_answer.ipynb\" target=\"_parent\"><img src=\"https://colab.research.google.com/assets/colab-badge.svg\" alt=\"Open In Colab\"/></a>"
      ]
    },
    {
      "cell_type": "markdown",
      "source": [
        "# **Usage**"
      ],
      "metadata": {
        "id": "TdiYc8WHA_iJ"
      }
    },
    {
      "cell_type": "code",
      "execution_count": null,
      "metadata": {
        "id": "3SlEtbNBAmKg"
      },
      "outputs": [],
      "source": [
        "# 安裝python package\n",
        "!pip install selenium"
      ]
    },
    {
      "cell_type": "code",
      "source": [
        "# 在 apt install 前更新軟體庫清單\n",
        "!apt-get update\n",
        "\n",
        "# 安裝軟體套件\n",
        "!apt install chromium-chromedriver"
      ],
      "metadata": {
        "id": "MSnoC3x6A-Ip"
      },
      "execution_count": null,
      "outputs": []
    },
    {
      "cell_type": "markdown",
      "source": [
        "# **輸出/輸入**"
      ],
      "metadata": {
        "id": "fDrmPiBpSyGu"
      }
    },
    {
      "cell_type": "markdown",
      "source": [
        "## 直接印出"
      ],
      "metadata": {
        "id": "tfUDwcSYdzXB"
      }
    },
    {
      "cell_type": "code",
      "source": [
        "# 包在單引號 '' 或 雙引號 \"\" 裡面即為字串\n",
        "print(\"Hello, World!\")"
      ],
      "metadata": {
        "id": "vp7O9QuDSxuF"
      },
      "execution_count": null,
      "outputs": []
    },
    {
      "cell_type": "markdown",
      "source": [
        "## 格式化輸出"
      ],
      "metadata": {
        "id": "WHqPg6oId6k3"
      }
    },
    {
      "cell_type": "code",
      "source": [
        "# 前面有多少組大括號{}，format的括號()裡就要有多少個字串\n",
        "print(\"{}, {}!\".format(\"Hello\", \"World\"))"
      ],
      "metadata": {
        "id": "RFcbtV3jd9jE"
      },
      "execution_count": null,
      "outputs": []
    },
    {
      "cell_type": "markdown",
      "source": [
        "# 當你想要print單引號"
      ],
      "metadata": {
        "id": "YFYv7ajaTDUz"
      }
    },
    {
      "cell_type": "code",
      "source": [
        "# 錯誤示範\n",
        "print('I'm Tom.')"
      ],
      "metadata": {
        "id": "dCtTMwKaTDC6"
      },
      "execution_count": null,
      "outputs": []
    },
    {
      "cell_type": "code",
      "source": [
        "# 方法1: 使用逃脫字元 \\ (Backslash)\n",
        "print('I\\'m Tom.')\n",
        "\n",
        "# 方法2: 雙引號\n",
        "print(\"I'm Tom.\")"
      ],
      "metadata": {
        "id": "nXWYskxETSL-"
      },
      "execution_count": null,
      "outputs": []
    },
    {
      "cell_type": "markdown",
      "source": [
        "## 智多星時間\n",
        "請印出下列字串\n",
        "```\n",
        "\"It's not my turn to cook,\" he said.\n",
        "```"
      ],
      "metadata": {
        "id": "b2Cg6mEJToIw"
      }
    },
    {
      "cell_type": "code",
      "source": [
        "# Put your code here"
      ],
      "metadata": {
        "id": "SLmoPEsYC5iQ"
      },
      "execution_count": null,
      "outputs": []
    },
    {
      "cell_type": "code",
      "source": [
        "# 因為同時有單引號和雙引號，用逃脫字元 \\\n",
        "\n",
        "# 用雙引號包住字串\n",
        "print(\"\\\"It's not my turn to cook,\\\" he said.\")\n",
        "# 用單引號包住字串\n",
        "print('\"It\\'s not my turn to cook,\" he said.')"
      ],
      "metadata": {
        "id": "K1vRxH-ifJDo"
      },
      "execution_count": null,
      "outputs": []
    },
    {
      "cell_type": "markdown",
      "source": [
        "## 輸入範例"
      ],
      "metadata": {
        "id": "hyTxiEVhUNXz"
      }
    },
    {
      "cell_type": "code",
      "source": [
        "# 不給提示字\n",
        "print(input())\n",
        "\n",
        "# 在輸入前會出現提示字\n",
        "print(input(\"Please enter your name: \"))"
      ],
      "metadata": {
        "id": "dFC3dlHUUZuv"
      },
      "execution_count": null,
      "outputs": []
    },
    {
      "cell_type": "markdown",
      "source": [
        "# **註解 (comment)**"
      ],
      "metadata": {
        "id": "LVmNDd5xVtFg"
      }
    },
    {
      "cell_type": "markdown",
      "source": [
        "## 單行註解"
      ],
      "metadata": {
        "id": "m_kr0QjaV7pJ"
      }
    },
    {
      "cell_type": "code",
      "source": [
        "# print(\"我是註解，不會被執行\")\n",
        "print(\"我會被執行\")"
      ],
      "metadata": {
        "id": "EYbYRhXqVylC"
      },
      "execution_count": null,
      "outputs": []
    },
    {
      "cell_type": "markdown",
      "source": [
        "## 多行註解"
      ],
      "metadata": {
        "id": "CMd9Dsn-V5_1"
      }
    },
    {
      "cell_type": "code",
      "source": [
        "\"\"\"\n",
        "print(\"這些都不會\")\n",
        "print(\"被執行\")\n",
        "\"\"\"\n",
        "print(\"這個會執行\")"
      ],
      "metadata": {
        "id": "xR7nT5tvV_Cb"
      },
      "execution_count": null,
      "outputs": []
    },
    {
      "cell_type": "markdown",
      "source": [
        "# **變數**"
      ],
      "metadata": {
        "id": "zIwSyh6-fmwD"
      }
    },
    {
      "cell_type": "markdown",
      "source": [
        "## 變數命名"
      ],
      "metadata": {
        "id": "sArwXhF9Wfo9"
      }
    },
    {
      "cell_type": "code",
      "source": [
        "# 合格範例\n",
        "apple = 'rotten'\n",
        "user_id = 5\n",
        "timeUsed = 60\n",
        "\n",
        "# 錯誤範例\n",
        "5 = five\n",
        "3apples = 100\n",
        "three+five = 8"
      ],
      "metadata": {
        "id": "yo2nqttQWFiI"
      },
      "execution_count": null,
      "outputs": []
    },
    {
      "cell_type": "markdown",
      "source": [
        "## 變數重複宣告"
      ],
      "metadata": {
        "id": "k0GDfl2SWzS2"
      }
    },
    {
      "cell_type": "code",
      "source": [
        "x = 10\n",
        "x = 'ten'\n",
        "\n",
        "print(x)"
      ],
      "metadata": {
        "id": "ql6wZozjW1nQ"
      },
      "execution_count": null,
      "outputs": []
    },
    {
      "cell_type": "markdown",
      "source": [
        "## Try it\n",
        "請問執行完之後x, y分別為多少？\n",
        "\n",
        "\n",
        "```python=\n",
        "x = 15\n",
        "y = 10\n",
        "y = x + y\n",
        "x = y + 1\n",
        "x = x + 3\n",
        "y = y - 1\n",
        "```\n",
        "\n"
      ],
      "metadata": {
        "id": "N6zPvXkbW7n_"
      }
    },
    {
      "cell_type": "code",
      "source": [
        "x = 15\n",
        "y = 10\n",
        "y = x + y\n",
        "x = y + 1\n",
        "x = x + 3\n",
        "y = y - 1\n",
        "print(x)\n",
        "print(y)"
      ],
      "metadata": {
        "id": "n6onKfXnW-oH"
      },
      "execution_count": null,
      "outputs": []
    },
    {
      "cell_type": "markdown",
      "source": [
        "# **算術運算子**"
      ],
      "metadata": {
        "id": "_ljhLO4VWC8C"
      }
    },
    {
      "cell_type": "markdown",
      "source": [
        "## Try it\n",
        "請算出下列算式的解答，並印出來\n",
        "```\n",
        "(30 - 25) * 50 / 8 + (99 % 35) ** 2 - 8888 // 75  \n",
        "```"
      ],
      "metadata": {
        "id": "LswGSvy-WLCA"
      }
    },
    {
      "cell_type": "code",
      "source": [
        "# Put your code here\n"
      ],
      "metadata": {
        "id": "Wx8Uztd3DPMS"
      },
      "execution_count": null,
      "outputs": []
    },
    {
      "cell_type": "code",
      "source": [
        "print((30 - 25) * 50 / 8 + (99 % 35) ** 2 - 8888 // 75 )"
      ],
      "metadata": {
        "id": "t3jcFUwVe8DS"
      },
      "execution_count": null,
      "outputs": []
    },
    {
      "cell_type": "markdown",
      "source": [
        "## 字串加法"
      ],
      "metadata": {
        "id": "RpR5yuGUDkjj"
      }
    },
    {
      "cell_type": "code",
      "source": [
        "print(\"pine\" + \"apple\")"
      ],
      "metadata": {
        "id": "643iCrkrDt_L"
      },
      "execution_count": null,
      "outputs": []
    },
    {
      "cell_type": "markdown",
      "source": [
        "## 智多星時間\n",
        "1. 假設你有一筆93塊的帳單\n",
        "2. 有20元、10元、5元和1元硬幣\n",
        "3. 請用最少的硬幣數量支付你的帳單\n",
        "4. 將各硬幣數量分別存入twenty, ten, five, one四個變數\n",
        "5. 印出結果\n"
      ],
      "metadata": {
        "id": "LTyeTQRIXIrT"
      }
    },
    {
      "cell_type": "code",
      "source": [
        "bill = 93\n",
        "\n",
        "twenty = bill \"???\" 20  # 請將\"???\"替換成一種算數運算子\n",
        "bill = bill \"???\" 20 # 請將\"???\"替換成一種算數運算子\n",
        "\n",
        "# Put your code here\n",
        "\n",
        "print(\"20元:\", twenty, \"\\n10元:\",\n",
        "      ten, \"\\n5元:\", five, \"\\n1元:\", one)"
      ],
      "metadata": {
        "id": "O2fwl8AjXNuj"
      },
      "execution_count": null,
      "outputs": []
    },
    {
      "cell_type": "code",
      "source": [
        "bill = 93\n",
        "\n",
        "# 先用面額大的硬幣，使用的硬幣數量會最少\n",
        "twenty = bill // 20\n",
        "bill = bill % 20\n",
        "ten = bill // 10\n",
        "bill = bill % 10\n",
        "five = bill // 5\n",
        "bill = bill % 5\n",
        "one = bill\n",
        "\n",
        "print(\"20元:\", twenty, \"\\n10元:\",\n",
        "      ten, \"\\n5元:\", five, \"\\n1元:\", one)\n"
      ],
      "metadata": {
        "id": "paoNXIALEreG"
      },
      "execution_count": null,
      "outputs": []
    },
    {
      "cell_type": "markdown",
      "source": [
        "# **關係運算子(Comparison Operator)**"
      ],
      "metadata": {
        "id": "Ixm65gZ4x254"
      }
    },
    {
      "cell_type": "markdown",
      "source": [
        "## Try it\n",
        "請問印出來的結果是什麼？"
      ],
      "metadata": {
        "id": "Qi-muE6myDcY"
      }
    },
    {
      "cell_type": "code",
      "source": [
        "print(1 == 1)\n",
        "print(4 < 2)\n",
        "print(3 != 6)\n",
        "print(5 > 2)"
      ],
      "metadata": {
        "id": "8aTV9eZTyC4h"
      },
      "execution_count": null,
      "outputs": []
    },
    {
      "cell_type": "markdown",
      "source": [
        "# **成員運算子(Membership Operator)**"
      ],
      "metadata": {
        "id": "PsW5Zjb4yT8d"
      }
    },
    {
      "cell_type": "code",
      "source": [
        "# 判斷列表是否存在某元素\n",
        "print('Amber' in ['Joe', 'Jason', 'James'])\n",
        "\n",
        "# 判斷字串是否包含某字母/子字串\n",
        "print('a' in 'apple')\n",
        "print('ap' not in 'apple')"
      ],
      "metadata": {
        "id": "CxWetJWAx4mX"
      },
      "execution_count": null,
      "outputs": []
    },
    {
      "cell_type": "markdown",
      "source": [
        "## 智多星時間\n",
        "請判斷下列問題的真假\n",
        "\n",
        "```\n",
        "優先級(由高到低)\n",
        "1. 算術運算子(+)\n",
        "2. 成員運算子(in)、關係運算子(>)\n",
        "3. not\n",
        "4. and\n",
        "5. or\n",
        "```"
      ],
      "metadata": {
        "id": "RPa5veamzZ1l"
      }
    },
    {
      "cell_type": "code",
      "source": [
        "# Q1\n",
        "print(True or False and False)\n",
        "\n",
        "# Q2\n",
        "x = (3 == 2) == (4 == 5)\n",
        "y = True\n",
        "z = not y\n",
        "print(z and y or x)\n",
        "\n",
        "# Q3\n",
        "print(not(True or (4 % 3 == 1 or False and 10//3 > 3)))"
      ],
      "metadata": {
        "id": "-fomdAvdzab1"
      },
      "execution_count": null,
      "outputs": []
    },
    {
      "cell_type": "markdown",
      "source": [
        "# **常用資料結構**"
      ],
      "metadata": {
        "id": "VtnTeqaP2Dh-"
      }
    },
    {
      "cell_type": "markdown",
      "source": [
        "## 索引範例"
      ],
      "metadata": {
        "id": "YDDX6NyB2WUD"
      }
    },
    {
      "cell_type": "code",
      "source": [
        "random_list = ['hi', 234, False, 4.5]\n",
        "\n",
        "# 取得index = 2的資料\n",
        "print('random_list[2]:', random_list[2])\n",
        "\n",
        "# 更改index = 3的資料\n",
        "random_list[3] = 'modified'\n",
        "print('random_list:', random_list)"
      ],
      "metadata": {
        "id": "PGE2IP7I2CzJ"
      },
      "execution_count": null,
      "outputs": []
    },
    {
      "cell_type": "markdown",
      "source": [
        "## 取得子字串"
      ],
      "metadata": {
        "id": "mI3H5iZZfR2w"
      }
    },
    {
      "cell_type": "code",
      "source": [
        "name = 'Andy Dufresne'\n",
        "# 取得某字母\n",
        "print(name[6])\n",
        "# 取得子字串\n",
        "print(name[0:4])\n",
        "# 取得翻轉過後的字串\n",
        "print(name[::-1])"
      ],
      "metadata": {
        "id": "CSvdlCjMfVaF"
      },
      "execution_count": null,
      "outputs": []
    },
    {
      "cell_type": "markdown",
      "source": [
        "## 列表宣告"
      ],
      "metadata": {
        "id": "Qy1T-pwE2adO"
      }
    },
    {
      "cell_type": "code",
      "source": [
        "list_of_things = ['apple', 55688, True, [1, 2, 4]]\n",
        "random_list = list()"
      ],
      "metadata": {
        "id": "B7H-p9Yn2iBl"
      },
      "execution_count": null,
      "outputs": []
    },
    {
      "cell_type": "markdown",
      "source": [
        "## 從列表新增、移除元素\n"
      ],
      "metadata": {
        "id": "rQ86Mxah2mEe"
      }
    },
    {
      "cell_type": "code",
      "source": [
        "list_of_things = ['apple', 55688, True, [1, 2, 4]]\n",
        "\n",
        "# 新增元素至列表\n",
        "list_of_things.append('student')\n",
        "list_of_things.append('teacher')\n",
        "\n",
        "\n",
        "# 從列表移除元素\n",
        "list_of_things.remove(55688)\n",
        "print(list_of_things)"
      ],
      "metadata": {
        "id": "3RY09Gdl2uLz"
      },
      "execution_count": null,
      "outputs": []
    },
    {
      "cell_type": "markdown",
      "source": [
        "## Try it\n",
        "1. 請先定義一個列表名為list_of_things，如下\n",
        "2. 找到index = 3的值\n",
        "3. 印出結果"
      ],
      "metadata": {
        "id": "AHRIW_-_2yL-"
      }
    },
    {
      "cell_type": "code",
      "source": [
        "list_of_things = ['apple', 55688, True, [1, 2, 4]]\n",
        "\n",
        "# Put your code here\n"
      ],
      "metadata": {
        "id": "JyYpdK6a26SN"
      },
      "execution_count": null,
      "outputs": []
    },
    {
      "cell_type": "code",
      "source": [
        "list_of_things = ['apple', 55688, True, [1, 2, 4]]\n",
        "print(list_of_things[3])"
      ],
      "metadata": {
        "id": "XREKcXYTGrkM"
      },
      "execution_count": null,
      "outputs": []
    },
    {
      "cell_type": "markdown",
      "source": [
        "## 元組宣告"
      ],
      "metadata": {
        "id": "XmDN_LQr3D_l"
      }
    },
    {
      "cell_type": "code",
      "source": [
        "location_a = (13.4125, 103.866667)\n",
        "random_tuple = tuple()"
      ],
      "metadata": {
        "id": "E08QFWxb3PHr"
      },
      "execution_count": null,
      "outputs": []
    },
    {
      "cell_type": "markdown",
      "source": [
        "## Try it\n",
        "1. 請先定義一個元組名為location，如下\n",
        "2. 先印出location中index = 0的值\n",
        "3. 將location中index = 0的值改為25.29"
      ],
      "metadata": {
        "id": "uePvba3S3lil"
      }
    },
    {
      "cell_type": "code",
      "source": [
        "location = (13.4125, 103.866667)\n",
        "\n",
        "# Put your code here\n"
      ],
      "metadata": {
        "id": "rHdbdiln3tXB"
      },
      "execution_count": null,
      "outputs": []
    },
    {
      "cell_type": "code",
      "source": [
        "location = (13.4125, 103.866667)\n",
        "\n",
        "print('location[0]:', location[0])\n",
        "location[0] = 25.29"
      ],
      "metadata": {
        "id": "oXM3g7URG0ac"
      },
      "execution_count": null,
      "outputs": []
    },
    {
      "cell_type": "markdown",
      "source": [
        "## 集合宣告"
      ],
      "metadata": {
        "id": "DaKIBj4v4qRl"
      }
    },
    {
      "cell_type": "code",
      "source": [
        "# 宣告方法\n",
        "i_am_set = {3, 1, 53, 1, 1}\n",
        "\n",
        "# 也可以由list轉成set\n",
        "list_of_num = [1, 2, 6, 3, 1, 1, 6]\n",
        "set_of_num = set(list_of_num)\n",
        "\n",
        "print('i_am_set:', i_am_set)\n",
        "print('set_of_num:', set_of_num)"
      ],
      "metadata": {
        "id": "tPzjGBb44uXV"
      },
      "execution_count": null,
      "outputs": []
    },
    {
      "cell_type": "markdown",
      "source": [
        "## 從集合新增、移除元素"
      ],
      "metadata": {
        "id": "Of56-zR04zMz"
      }
    },
    {
      "cell_type": "code",
      "source": [
        "i_am_set = {3, 1, 53, 1, 1}\n",
        "\n",
        "# 新增元素到集合\n",
        "i_am_set.add(8)\n",
        "\n",
        "# 從集合當中移除元素\n",
        "i_am_set.remove(1)\n",
        "print('i_am_set:', i_am_set)"
      ],
      "metadata": {
        "id": "IVG9wTRg4y4X"
      },
      "execution_count": null,
      "outputs": []
    },
    {
      "cell_type": "markdown",
      "source": [
        "## Try it\n",
        "1. 請先定義一個集合名為set_of_num，如下\n",
        "2. 印出set_of_num中index = 3的值"
      ],
      "metadata": {
        "id": "1je61WXO6oWP"
      }
    },
    {
      "cell_type": "code",
      "source": [
        "set_of_num = {1, 2, 3, 6}\n",
        "\n",
        "# Put your code here\n"
      ],
      "metadata": {
        "id": "TBtizzVL6rYG"
      },
      "execution_count": null,
      "outputs": []
    },
    {
      "cell_type": "code",
      "source": [
        "set_of_num = {1, 2, 3, 6}\n",
        "\n",
        "print(set_of_num[3])"
      ],
      "metadata": {
        "id": "T5iJCCH7IIt8"
      },
      "execution_count": null,
      "outputs": []
    },
    {
      "cell_type": "markdown",
      "source": [
        "## 字典宣告"
      ],
      "metadata": {
        "id": "5jKEfRaM6_JJ"
      }
    },
    {
      "cell_type": "code",
      "source": [
        "# 宣告方式\n",
        "element_dict = {\"hydrogen\": 1, \"helium\": 2, \"carbon\": 6}\n",
        "i_am_dict = dict()\n",
        "\n",
        "# 印出key=helium時的value\n",
        "print(element_dict['helium'])"
      ],
      "metadata": {
        "id": "x0aOMXpt7BX7"
      },
      "execution_count": null,
      "outputs": []
    },
    {
      "cell_type": "markdown",
      "source": [
        "## Try it\n",
        "1. 請先定義一個字典名為element，資料如下\n",
        "2. 印出key='C'的value\n",
        "\n",
        "| key | value |\n",
        "|:---:|:-----:|\n",
        "| 'H' |   1   |\n",
        "| 'C' |  12   |\n",
        "| 'N' |  14   |\n",
        "\n"
      ],
      "metadata": {
        "id": "PNPQLMn6jKfr"
      }
    },
    {
      "cell_type": "code",
      "source": [
        "element = dict()\n",
        "# Put your code here\n"
      ],
      "metadata": {
        "id": "veHhqSGdjT46"
      },
      "execution_count": null,
      "outputs": []
    },
    {
      "cell_type": "code",
      "source": [
        "element = dict()\n",
        "element = {'H':1, 'C':12, 'N':14}\n",
        "print(element['C'])"
      ],
      "metadata": {
        "id": "zQ12PA14Ihzj"
      },
      "execution_count": null,
      "outputs": []
    },
    {
      "cell_type": "markdown",
      "source": [
        "## 智多星時間\n",
        "1. 請先定義一個列表名為random_list，如下\n",
        "2. 試著取得'target'所在的位置\n",
        "3. 印出結果"
      ],
      "metadata": {
        "id": "NnEQHqG4jmsD"
      }
    },
    {
      "cell_type": "code",
      "source": [
        "# HINT: 會需要兩個索引(index)\n",
        "random_list = ['hi', 234, False, (1, 'target', 5)]\n",
        "# Put your code here\n"
      ],
      "metadata": {
        "id": "6KWK5aKhjpAI"
      },
      "execution_count": null,
      "outputs": []
    },
    {
      "cell_type": "code",
      "source": [
        "random_list = ['hi', 234, False, (1, 'target', 5)]\n",
        " \n",
        "# method 1\n",
        "index3 = random_list[3]\n",
        "print('index3:', index3)\n",
        "print(index3[1])\n",
        " \n",
        "# method 2\n",
        "print(random_list[3][1])"
      ],
      "metadata": {
        "id": "XB1cp1hoIqxV"
      },
      "execution_count": null,
      "outputs": []
    },
    {
      "cell_type": "markdown",
      "source": [
        "# **條件(condition)**"
      ],
      "metadata": {
        "id": "isKk38Eckm_0"
      }
    },
    {
      "cell_type": "markdown",
      "source": [
        "## 如果...就...(v1.0)"
      ],
      "metadata": {
        "id": "BfJQFEh0mgsy"
      }
    },
    {
      "cell_type": "code",
      "source": [
        "numberOfAvocado = 3\n",
        "if numberOfAvocado > 0:\n",
        "    print(\"買六加侖牛奶\")"
      ],
      "metadata": {
        "id": "HbAWmoSPmbSv"
      },
      "execution_count": null,
      "outputs": []
    },
    {
      "cell_type": "markdown",
      "source": [
        "## 縮排錯誤範例"
      ],
      "metadata": {
        "id": "aUZHgVzWmrPF"
      }
    },
    {
      "cell_type": "code",
      "source": [
        "# 沒縮排\n",
        "if True:\n",
        "print(\"我沒有縮排\")"
      ],
      "metadata": {
        "id": "n4NJi6Zdmu4X"
      },
      "execution_count": null,
      "outputs": []
    },
    {
      "cell_type": "markdown",
      "source": [
        "## 縮排錯誤範例"
      ],
      "metadata": {
        "id": "d5Gm1JPOm0go"
      }
    },
    {
      "cell_type": "code",
      "source": [
        "# 縮排不一致\n",
        "if True:\n",
        "    print(\"我用tab縮排\")\n",
        "  print(\"我用兩個空格縮排\")"
      ],
      "metadata": {
        "id": "SY8pAfwim6se"
      },
      "execution_count": null,
      "outputs": []
    },
    {
      "cell_type": "markdown",
      "source": [
        "## 如果...就...否則就...(v2.0)"
      ],
      "metadata": {
        "id": "l1GRkmL7m8bC"
      }
    },
    {
      "cell_type": "code",
      "source": [
        "numberOfAvocado = 3\n",
        "if numberOfAvocado > 0:\n",
        "    print(\"買六加侖牛奶\")\n",
        "else:\n",
        "    print(\"買一加侖牛奶\")"
      ],
      "metadata": {
        "id": "ZgjZW5XKnBT5"
      },
      "execution_count": null,
      "outputs": []
    },
    {
      "cell_type": "markdown",
      "source": [
        "## 如果...就...否則如果...就...(v2.0.1)"
      ],
      "metadata": {
        "id": "bfVHomofnDER"
      }
    },
    {
      "cell_type": "code",
      "source": [
        "# A list with 3 elements\n",
        "condition = [False, False, True]\n",
        "if condition[0]:\n",
        "    print(\"condition0 is True\")\n",
        "elif condition[1]:\n",
        "    print(\"condition1 is True\")\n",
        "elif condition[2]:\n",
        "    print(\"condition2 is True\")"
      ],
      "metadata": {
        "id": "6ZqWKFZVnLNJ"
      },
      "execution_count": null,
      "outputs": []
    },
    {
      "cell_type": "markdown",
      "source": [
        "## 如果...就...否則如果...就...否則就...(完全版)"
      ],
      "metadata": {
        "id": "_E2Ye13QnOQj"
      }
    },
    {
      "cell_type": "code",
      "source": [
        "# A list with 3 elements\n",
        "condition = [False, False, False]\n",
        "if condition[0]:\n",
        "    print(\"condition0 is True\")\n",
        "elif condition[1]:\n",
        "    print(\"condition1 is True\")\n",
        "elif condition[2]:\n",
        "    print(\"condition2 is True\")\n",
        "else:\n",
        "    print(\"conditions are all False\")"
      ],
      "metadata": {
        "id": "YjKKA0tGnO_p"
      },
      "execution_count": null,
      "outputs": []
    },
    {
      "cell_type": "markdown",
      "source": [
        "# **迴圈(loop)**"
      ],
      "metadata": {
        "id": "Xu9fvxPknj7G"
      }
    },
    {
      "cell_type": "markdown",
      "source": [
        "## for迴圈範例: range"
      ],
      "metadata": {
        "id": "TFCg3pgPxOM0"
      }
    },
    {
      "cell_type": "code",
      "source": [
        "# Case1: range\n",
        "# 在迴圈內沒用到變數i\n",
        "for i in range(5):\n",
        "    print(\"一代\")"
      ],
      "metadata": {
        "id": "lJZ0NU-9xbAZ"
      },
      "execution_count": null,
      "outputs": []
    },
    {
      "cell_type": "code",
      "source": [
        "# Case1: range\n",
        "# 在迴圈內用到變數i\n",
        "total = 0\n",
        "# i從0,1,2...,100\n",
        "for i in range(101):\n",
        "    total += i\n",
        "print(total)"
      ],
      "metadata": {
        "id": "D76RknbcOONy"
      },
      "execution_count": null,
      "outputs": []
    },
    {
      "cell_type": "markdown",
      "source": [
        "## for迴圈範例: list"
      ],
      "metadata": {
        "id": "dmcefLc0xUt0"
      }
    },
    {
      "cell_type": "code",
      "source": [
        "# case2: iterate list\n",
        "intList = [0,1,2]\n",
        "for i in intList:\n",
        "    print(i)"
      ],
      "metadata": {
        "id": "AnU5DC-fnmkX"
      },
      "execution_count": null,
      "outputs": []
    },
    {
      "cell_type": "markdown",
      "source": [
        "## Try it\n",
        "1. 請先初始化一個字串變數name，初始化的值為[你/妳的英文名字]\n",
        "2. 以name為迭代(iterate)目標跑for迴圈並印出i\n",
        "3. 觀察結果"
      ],
      "metadata": {
        "id": "zMMGy68vxht7"
      }
    },
    {
      "cell_type": "code",
      "source": [
        "# Put your code here\n"
      ],
      "metadata": {
        "id": "E3lGX1_-xkRk"
      },
      "execution_count": null,
      "outputs": []
    },
    {
      "cell_type": "code",
      "source": [
        "name = \"myName\"\n",
        "for i in name:\n",
        "    print(i)"
      ],
      "metadata": {
        "id": "96x6BgPlJN7_"
      },
      "execution_count": null,
      "outputs": []
    },
    {
      "cell_type": "markdown",
      "source": [
        "## 智多星時間\n",
        "1. 每個英文字母代表一個分數，分數定義如下\n",
        "2. 請試著用for迴圈計算string裡面英文字母的分數和，並存至total\n",
        "3. Ex: fox = 20 + 5 + 20 = 45"
      ],
      "metadata": {
        "id": "bMVMMzAxxpkM"
      }
    },
    {
      "cell_type": "code",
      "source": [
        "# 分數用字典定義\n",
        "score = {5:'aeinostu', 10:'bcmprlg', 20:'fhvwykjxqzd'}\n",
        "# 欲計算的字串變數\n",
        "string = 'girlfriend'\n",
        "total = 0 # 總分\n",
        "# HINT: 你可能會用到 in\n",
        "# Put your code here\n",
        "\n",
        "\n",
        "# 印出字串的分數\n",
        "print(\"{}: {}\".format(string, total))"
      ],
      "metadata": {
        "id": "SkpzfdF3yreg"
      },
      "execution_count": null,
      "outputs": []
    },
    {
      "cell_type": "code",
      "source": [
        "score = {5:'aeinostu', 10:'bcmprlg', 20:'fhvwykjxqzd'}\n",
        "string = 'girlfriend'\n",
        "total = 0\n",
        "for i in string:\n",
        "    if i in score[5]:\n",
        "        total += 5\n",
        "    elif i in score[10]:\n",
        "        total += 10\n",
        "    else:\n",
        "        total += 20\n",
        "print(\"{}: {}\".format(string, total))"
      ],
      "metadata": {
        "id": "ixylqguzJYbU"
      },
      "execution_count": null,
      "outputs": []
    },
    {
      "cell_type": "markdown",
      "source": [
        "## while迴圈"
      ],
      "metadata": {
        "id": "bpV1z2D1y-Uq"
      }
    },
    {
      "cell_type": "code",
      "source": [
        "# 跨年倒數\n",
        "timer = 5\n",
        "while timer > 0:\n",
        "    # str(變數): 將變數資料型態轉為字串\n",
        "    print(str(timer) + '!')\n",
        "    timer -= 1\n",
        "print(\"Happy New Year!\")"
      ],
      "metadata": {
        "id": "GvqkN_xNzDg8"
      },
      "execution_count": null,
      "outputs": []
    },
    {
      "cell_type": "markdown",
      "source": [
        "## 無窮迴圈"
      ],
      "metadata": {
        "id": "PhGsKgZ9zHI_"
      }
    },
    {
      "cell_type": "code",
      "source": [
        "# 跨年倒數器\n",
        "timer = 5\n",
        "while timer > 0:\n",
        "    # str(變數): 將變數資料型態轉為字串\n",
        "    print(str(timer) + '!')\n",
        "    # timer -= 1\n",
        "print(\"Happy New Year!\")"
      ],
      "metadata": {
        "id": "Xfy7-Pq5zJhZ"
      },
      "execution_count": null,
      "outputs": []
    },
    {
      "cell_type": "markdown",
      "source": [
        "## 寫成程式碼"
      ],
      "metadata": {
        "id": "iBKORO9AzLdo"
      }
    },
    {
      "cell_type": "code",
      "source": [
        "atStore = True\n",
        "while atStore:\n",
        "    print(\"Get some milk\")    "
      ],
      "metadata": {
        "id": "NzQxe73HzPHO"
      },
      "execution_count": null,
      "outputs": []
    },
    {
      "cell_type": "markdown",
      "source": [
        "# **巢狀迴圈(nested loop)**"
      ],
      "metadata": {
        "id": "DecqWiMVUTsu"
      }
    },
    {
      "cell_type": "markdown",
      "source": [
        "## 單層迴圈寫法"
      ],
      "metadata": {
        "id": "DtUy2CdFUk9N"
      }
    },
    {
      "cell_type": "code",
      "source": [
        "for i in range(1,10):\n",
        "    print(\"1 * \" + str(i) + \" = \" + str(1*(i)))\n",
        "for i in range(1,10):\n",
        "    print(\"2 * \" + str(i) + \" = \" + str(2*(i)))\n",
        "for i in range(1,10):\n",
        "    print(\"3 * \" + str(i) + \" = \" + str(3*(i)))\n",
        "for i in range(1,10):\n",
        "    print(\"4 * \" + str(i) + \" = \" + str(4*(i)))\n",
        "for i in range(1,10):\n",
        "    print(\"5 * \" + str(i) + \" = \" + str(5*(i)))\n",
        "for i in range(1,10):\n",
        "    print(\"6 * \" + str(i) + \" = \" + str(6*(i)))\n",
        "for i in range(1,10):\n",
        "    print(\"7 * \" + str(i) + \" = \" + str(7*(i)))\n",
        "for i in range(1,10):\n",
        "    print(\"8 * \" + str(i) + \" = \" + str(8*(i)))\n",
        "for i in range(1,10):\n",
        "    print(\"9 * \" + str(i) + \" = \" + str(9*(i)))\n"
      ],
      "metadata": {
        "id": "_c99y22TUkVo"
      },
      "execution_count": null,
      "outputs": []
    },
    {
      "cell_type": "markdown",
      "source": [
        "## 巢狀迴圈寫法"
      ],
      "metadata": {
        "id": "Kgw-9xsxVKGO"
      }
    },
    {
      "cell_type": "code",
      "source": [
        "for i in range(1,10):\n",
        "    for j in range(1,10):\n",
        "        print(str(i) + \" * \" + str(j) + \" = \" + str(i*j))\n"
      ],
      "metadata": {
        "id": "jQKqIi_1VX4S"
      },
      "execution_count": null,
      "outputs": []
    },
    {
      "cell_type": "markdown",
      "source": [
        "## 智多星時間\n",
        "1. 定義4*4 treasureMap如下，其中有一處為寶藏\n",
        "2. 請用雙層for迴圈找到寶藏在第幾列第幾行，並分別指派給變數treasureRow, treasureCol"
      ],
      "metadata": {
        "id": "AMgVJtrhVrHo"
      }
    },
    {
      "cell_type": "code",
      "source": [
        "import random\n",
        "# 固定隨機seed以重現結果\n",
        "random.seed(105)\n",
        "# 4*4 藏寶圖\n",
        "treasureMap = [[\"stone\",\"stone\",\"stone\",\"stone\"],\n",
        "               [\"stone\",\"stone\",\"stone\",\"stone\"],\n",
        "               [\"stone\",\"stone\",\"stone\",\"stone\"],\n",
        "               [\"stone\",\"stone\",\"stone\",\"stone\"]]\n",
        "# 我把所有的財寶都放在那裡\n",
        "treasureMap[random.randint(0,3)][random.randint(0,3)] = \"treasure\"\n",
        "# Put your code here\n",
        "\n",
        "# 印出藏寶圖\n",
        "print(\"Treasure map:\")\n",
        "for i in range(4):\n",
        "    print(treasureMap[i])\n",
        "# 印出寶藏位置\n",
        "print(\"\\nTreasure row:\", treasureRow, \"\\nTreasure column:\", treasureCol)"
      ],
      "metadata": {
        "id": "rmGGRb6YV2PL"
      },
      "execution_count": null,
      "outputs": []
    },
    {
      "cell_type": "code",
      "source": [
        "import random\n",
        "random.seed(105)\n",
        "treasureMap = [[\"stone\",\"stone\",\"stone\",\"stone\"],\n",
        "               [\"stone\",\"stone\",\"stone\",\"stone\"],\n",
        "               [\"stone\",\"stone\",\"stone\",\"stone\"],\n",
        "               [\"stone\",\"stone\",\"stone\",\"stone\"]]\n",
        "treasureMap[random.randint(0,3)][random.randint(0,3)] = \"treasure\"\n",
        "for i in range(4):\n",
        "  for j in range(4):\n",
        "    if treasureMap[i][j] == \"treasure\":\n",
        "      treasureRow = i\n",
        "      treasureCol = j\n",
        "print(\"Treasure map:\")\n",
        "for i in range(4):\n",
        "    print(treasureMap[i])\n",
        "print(\"\\nTreasure row:\", treasureRow, \"\\nTreasure column:\", treasureCol)"
      ],
      "metadata": {
        "id": "E3vp6Z-ol1Ij"
      },
      "execution_count": null,
      "outputs": []
    },
    {
      "cell_type": "markdown",
      "source": [
        "## 試著「迴」憶"
      ],
      "metadata": {
        "id": "tVsJrA52QPJ-"
      }
    },
    {
      "cell_type": "code",
      "source": [
        "for i in range(5):\n",
        "  print(\"Round:\", i)"
      ],
      "metadata": {
        "id": "cfYLhAW1Fvrx"
      },
      "execution_count": null,
      "outputs": []
    },
    {
      "cell_type": "markdown",
      "source": [
        "## continue範例"
      ],
      "metadata": {
        "id": "_xIguZJfQZUm"
      }
    },
    {
      "cell_type": "code",
      "source": [
        "for i in range(5):\n",
        "    if i == 2:\n",
        "        continue\n",
        "    print(\"Round:\", i)"
      ],
      "metadata": {
        "id": "iqMKKeyNQdeg"
      },
      "execution_count": null,
      "outputs": []
    },
    {
      "cell_type": "markdown",
      "source": [
        "## break範例"
      ],
      "metadata": {
        "id": "k4Cro4NZQfIF"
      }
    },
    {
      "cell_type": "code",
      "source": [
        "for i in range(5):\n",
        "  if i == 2:\n",
        "      break\n",
        "  print(\"Round:\", i)"
      ],
      "metadata": {
        "id": "KY20FqFvQhzK"
      },
      "execution_count": null,
      "outputs": []
    }
  ]
}